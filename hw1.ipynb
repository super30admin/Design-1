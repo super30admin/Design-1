{
 "cells": [
  {
   "cell_type": "code",
   "execution_count": 156,
   "id": "84bf4be6",
   "metadata": {},
   "outputs": [],
   "source": [
    "\"\"\"\n",
    "Time complexity to add an element is O(n/k), to remove an element is O(n/k) and also to check existence of an element is \n",
    "alse O(n/k). where n is the total no of values in our hashset. k is the number of buckets(number of elements in array).\n",
    "(Assuming that equal number of elements are there in each of the bucket(linkedlist))\n",
    "Space complexity is O(1) for below given three operations.\n",
    "I tested below code in leetcode and it worked well.\n",
    "The problem I faced doing this is: I did not consider some edge cases while removing elements. so time got wasted in\n",
    "debugging. Apart from that even I have to become more attentive while writing code.\n",
    "\"\"\"\n",
    "class Node:\n",
    "    def __init__(self,val,next=None):\n",
    "        self.val=val\n",
    "        self.next=next\n",
    "class MyHashSet:\n",
    "\n",
    "    def __init__(self):\n",
    "        #created an array of 10000 because it is the maximum number of operations that can be done. \n",
    "        #In the worst case if we assume all the operations done are adding then we require array of length 10000 \n",
    "        self.set=[0]*10000\n",
    "        \n",
    "        \n",
    "\n",
    "    def add(self, key: int) -> None:\n",
    "        hashval=key%10000\n",
    "        if self.set[hashval]==0:\n",
    "            self.set[hashval]=Node(key)\n",
    "            \n",
    "        else:\n",
    "            current=self.set[hashval]\n",
    "            prev_current=self.set[hashval]\n",
    "            while current!=None:\n",
    "                if current.val==key:\n",
    "                    return\n",
    "                prev_current=current\n",
    "                current=current.next\n",
    "            prev_current.next=Node(key)\n",
    "                \n",
    "                    \n",
    "    def remove(self, key: int) -> None:\n",
    "        hashval=key%10000\n",
    "        if self.set[hashval]==0:\n",
    "            return \n",
    "        else:\n",
    "            current=self.set[hashval]\n",
    "            prev_current=None\n",
    "            while current!=None:\n",
    "                if current.val==key:\n",
    "                    if prev_current:\n",
    "                        prev_current.next=current.next\n",
    "                    else:\n",
    "                        self.set[hashval]=current.next\n",
    "                        if self.set[hashval]==None:\n",
    "                            self.set[hashval]=0\n",
    "                    return\n",
    "                prev_current=current\n",
    "                current=current.next\n",
    "            return\n",
    "                \n",
    "    def contains(self, key: int) -> bool:\n",
    "        hashval=key%10000\n",
    "        if self.set[hashval]==0:\n",
    "            return False\n",
    "        else:\n",
    "            current=self.set[hashval]\n",
    "            while current!=None:\n",
    "                if current.val==key:\n",
    "                    return True\n",
    "                else:\n",
    "                    current=current.next\n",
    "            return False"
   ]
  },
  {
   "cell_type": "code",
   "execution_count": null,
   "id": "20e9a82c",
   "metadata": {},
   "outputs": [],
   "source": [
    "\"\"\"\n",
    "Time complexity for each of the operations is O(1)\n",
    "Space complexity is  O(n) in case if all the operation done on our minstack are push.\n",
    "Below code worked in Leetcode perfectly\n",
    "Actually i didnt get this solution. I did it after Jaspinder explained. \n",
    "I felt if I would have talked with me more while doing the problem then I would have solved the problem\n",
    "\"\"\"\n",
    "class MinStack:\n",
    "\n",
    "    def __init__(self):\n",
    "        self.stack=[]\n",
    "        self.min_array=[]\n",
    "        self.min=float('inf')\n",
    "        self.min_array.append(self.min)\n",
    "    def push(self, val: int) -> None:\n",
    "        if val<self.min:\n",
    "            self.min=val\n",
    "        self.stack.append(val)\n",
    "        self.min_array.append(self.min)\n",
    "        \n",
    "    def pop(self) -> None:\n",
    "        self.stack.pop()\n",
    "        self.min_array.pop()\n",
    "        self.min=self.min_array[-1]\n",
    "        \n",
    "    def top(self) -> int:\n",
    "        return self.stack[-1]\n",
    "        \n",
    "\n",
    "    def getMin(self) -> int:\n",
    "        return self.min"
   ]
  },
  {
   "cell_type": "code",
   "execution_count": null,
   "id": "07d6f3e2",
   "metadata": {},
   "outputs": [],
   "source": []
  },
  {
   "cell_type": "code",
   "execution_count": null,
   "id": "389f1267",
   "metadata": {},
   "outputs": [],
   "source": []
  },
  {
   "cell_type": "code",
   "execution_count": null,
   "id": "18dae340",
   "metadata": {},
   "outputs": [],
   "source": []
  },
  {
   "cell_type": "code",
   "execution_count": 179,
   "id": "9f4431fd",
   "metadata": {},
   "outputs": [],
   "source": []
  },
  {
   "cell_type": "code",
   "execution_count": null,
   "id": "96e2531d",
   "metadata": {},
   "outputs": [],
   "source": []
  },
  {
   "cell_type": "code",
   "execution_count": null,
   "id": "66b10349",
   "metadata": {},
   "outputs": [],
   "source": []
  },
  {
   "cell_type": "code",
   "execution_count": null,
   "id": "5abd6128",
   "metadata": {},
   "outputs": [],
   "source": []
  },
  {
   "cell_type": "code",
   "execution_count": null,
   "id": "5ab65af1",
   "metadata": {},
   "outputs": [],
   "source": []
  },
  {
   "cell_type": "code",
   "execution_count": null,
   "id": "e2b600ff",
   "metadata": {},
   "outputs": [],
   "source": []
  },
  {
   "cell_type": "code",
   "execution_count": null,
   "id": "078e8dc5",
   "metadata": {},
   "outputs": [],
   "source": []
  },
  {
   "cell_type": "code",
   "execution_count": null,
   "id": "3e4b1400",
   "metadata": {},
   "outputs": [],
   "source": []
  },
  {
   "cell_type": "code",
   "execution_count": null,
   "id": "0634b93c",
   "metadata": {},
   "outputs": [],
   "source": []
  },
  {
   "cell_type": "code",
   "execution_count": null,
   "id": "e7577581",
   "metadata": {},
   "outputs": [],
   "source": []
  },
  {
   "cell_type": "code",
   "execution_count": null,
   "id": "d02903b8",
   "metadata": {},
   "outputs": [],
   "source": []
  },
  {
   "cell_type": "code",
   "execution_count": null,
   "id": "0ebd7b17",
   "metadata": {},
   "outputs": [],
   "source": []
  },
  {
   "cell_type": "code",
   "execution_count": null,
   "id": "b4a49bb7",
   "metadata": {},
   "outputs": [],
   "source": []
  },
  {
   "cell_type": "code",
   "execution_count": null,
   "id": "2e3f8937",
   "metadata": {},
   "outputs": [],
   "source": []
  },
  {
   "cell_type": "code",
   "execution_count": null,
   "id": "6cfb81d7",
   "metadata": {},
   "outputs": [],
   "source": []
  },
  {
   "cell_type": "code",
   "execution_count": null,
   "id": "428f9e13",
   "metadata": {},
   "outputs": [],
   "source": []
  },
  {
   "cell_type": "code",
   "execution_count": null,
   "id": "aaea84c3",
   "metadata": {},
   "outputs": [],
   "source": []
  },
  {
   "cell_type": "code",
   "execution_count": null,
   "id": "5be7bea9",
   "metadata": {},
   "outputs": [],
   "source": []
  },
  {
   "cell_type": "code",
   "execution_count": 147,
   "id": "07d227c1",
   "metadata": {},
   "outputs": [],
   "source": [
    "     "
   ]
  },
  {
   "cell_type": "code",
   "execution_count": null,
   "id": "3ce3917c",
   "metadata": {},
   "outputs": [],
   "source": []
  },
  {
   "cell_type": "code",
   "execution_count": null,
   "id": "f0fbac8e",
   "metadata": {},
   "outputs": [],
   "source": []
  },
  {
   "cell_type": "code",
   "execution_count": null,
   "id": "f0fe7b6a",
   "metadata": {},
   "outputs": [],
   "source": []
  },
  {
   "cell_type": "code",
   "execution_count": null,
   "id": "b7e9225f",
   "metadata": {},
   "outputs": [],
   "source": []
  },
  {
   "cell_type": "code",
   "execution_count": null,
   "id": "c9b8d627",
   "metadata": {},
   "outputs": [],
   "source": []
  },
  {
   "cell_type": "code",
   "execution_count": null,
   "id": "fc413eea",
   "metadata": {},
   "outputs": [],
   "source": []
  },
  {
   "cell_type": "code",
   "execution_count": null,
   "id": "21d84260",
   "metadata": {},
   "outputs": [],
   "source": []
  }
 ],
 "metadata": {
  "kernelspec": {
   "display_name": "Python 3",
   "language": "python",
   "name": "python3"
  },
  "language_info": {
   "codemirror_mode": {
    "name": "ipython",
    "version": 3
   },
   "file_extension": ".py",
   "mimetype": "text/x-python",
   "name": "python",
   "nbconvert_exporter": "python",
   "pygments_lexer": "ipython3",
   "version": "3.8.8"
  }
 },
 "nbformat": 4,
 "nbformat_minor": 5
}
