{
  "nbformat": 4,
  "nbformat_minor": 0,
  "metadata": {
    "colab": {
      "name": "Design 1.ipynb",
      "provenance": []
    },
    "kernelspec": {
      "name": "python3",
      "display_name": "Python 3"
    },
    "language_info": {
      "name": "python"
    }
  },
  "cells": [
    {
      "cell_type": "markdown",
      "metadata": {
        "id": "ltxMEF-qvq7X"
      },
      "source": [
        "HashMap"
      ]
    },
    {
      "cell_type": "code",
      "metadata": {
        "id": "Tb5yc2F5vgOS",
        "colab": {
          "base_uri": "https://localhost:8080/"
        },
        "outputId": "df6cbd53-e286-40ea-c529-e7d4c9f4ba6a"
      },
      "source": [
        "# Time Complexity - O(n) Space Complexity - O(n^2)\n",
        "class Node():\n",
        "    def __init__(self, key, value):\n",
        "      self.key = key\n",
        "      self.value = value\n",
        "      self.next = None\n",
        "class MyHashMap(object):\n",
        "    def __init__(self):\n",
        "        \"\"\"\n",
        "        Initialize your data structure here.\n",
        "        \"\"\"\n",
        "        self.capacity = 10000\n",
        "        self.arr = [None for _ in range(self.capacity)]\n",
        "    \n",
        "    def hashvalue(self, key):\n",
        "      return key % self.capacity\n",
        "\n",
        "    def put(self, key, value):\n",
        "        \"\"\"\n",
        "        value will always be non-negative.\n",
        "        :type key: int\n",
        "        :type value: int\n",
        "        :rtype: None\n",
        "        \"\"\"\n",
        "        if self.arr[self.hashvalue(key)] == None:\n",
        "          self.arr[self.hashvalue(key)] = Node(key, value)\n",
        "        elif self.arr[self.hashvalue(key)] != None:\n",
        "          found = false\n",
        "          prev = None\n",
        "          current = self.arr[self.hashvalue(key)]\n",
        "          while current:\n",
        "            if current.key == key:\n",
        "              found = true\n",
        "              curent.value = value\n",
        "              break\n",
        "            previous = current\n",
        "            current = current.next\n",
        "          if found == false:\n",
        "            previous.next = Node(key, value)\n",
        "        return\n",
        " \n",
        "    def get(self, key):\n",
        "        \"\"\"\n",
        "        Returns the value to which the specified key is mapped, or -1 if this map contains no mapping for the key\n",
        "        :type key: int\n",
        "        :rtype: int\n",
        "        \"\"\"\n",
        "        if self.arr[self.hashvalue(key)] != None:\n",
        "          prev = None\n",
        "          current = self.arr[self.hashvalue(key)]\n",
        "          while current:\n",
        "            if current.key == key:\n",
        "              return current.value\n",
        "            previous = current\n",
        "            current = current.next\n",
        "        return -1\n",
        "        \n",
        "    def remove(self, key):\n",
        "        \"\"\"\n",
        "        Removes the mapping of the specified value key if this map contains a mapping for the key\n",
        "        :type key: int\n",
        "        :rtype: None\n",
        "        \"\"\"\n",
        "        if self.arr[self.hashvalue(key)] == None:\n",
        "          return\n",
        "        elif self.arr[self.hashvalue(key)] != None:\n",
        "          prev = None\n",
        "          current = self.arr[self.hashvalue(key)]\n",
        "          while current:\n",
        "            if current.key == key:\n",
        "              if prev:\n",
        "                prev.next = current.next\n",
        "              else:\n",
        "                self.arr[self.hashvalue(key)] = current.next\n",
        "              break  \n",
        "            previous = current\n",
        "            current = current.next\n",
        "        return\n",
        "\n",
        "\n",
        "# Your MyHashMap object will be instantiated and called as such:\n",
        "obj = MyHashMap()\n",
        "obj.put(2,10)\n",
        "obj.put(3,11)\n",
        "obj.put(4,12)\n",
        "param2 = obj.get(2)\n",
        "print(param2)\n",
        "obj.remove(3)\n",
        "param2 = obj.get(4)\n",
        "print(param2)"
      ],
      "execution_count": 24,
      "outputs": [
        {
          "output_type": "stream",
          "name": "stdout",
          "text": [
            "10\n",
            "12\n"
          ]
        }
      ]
    },
    {
      "cell_type": "markdown",
      "source": [
        "Implement Queue using Stacks"
      ],
      "metadata": {
        "id": "ZPDBeaB6f9Fx"
      }
    },
    {
      "cell_type": "code",
      "metadata": {
        "id": "YaTXi0xHMhU1",
        "colab": {
          "base_uri": "https://localhost:8080/"
        },
        "outputId": "90841ee5-d2af-4025-9360-afde6b2aa64d"
      },
      "source": [
        "# Time Complexity - O(n) Space Complexity - O(n)\n",
        "class MyQueue(object):\n",
        "\n",
        "    def __init__(self):\n",
        "        \"\"\"\n",
        "        Initialize your data structure here.\n",
        "        \"\"\"\n",
        "        self.stack1=[]\n",
        "        self.stack2=[]\n",
        "        temp=None\n",
        "        \n",
        "    def push(self, x):\n",
        "        \"\"\"\n",
        "        Push element x to the back of queue.\n",
        "        :type x: int\n",
        "        :rtype: None\n",
        "        \"\"\"\n",
        "        self.stack1.append(x)\n",
        "        \n",
        "\n",
        "    def pop(self):\n",
        "        \"\"\"\n",
        "        Removes the element from in front of queue and returns that element.\n",
        "        :rtype: int\n",
        "        \"\"\"\n",
        "        while(len(self.stack1)>1):\n",
        "            self.stack2.append(self.stack1.pop())\n",
        "        temp=self.stack1.pop()\n",
        "        while(len(self.stack2)>0):\n",
        "            self.stack1.append(self.stack2.pop())\n",
        "        return temp    \n",
        "\n",
        "    def peek(self):\n",
        "        \"\"\"\n",
        "        Get the front element.\n",
        "        :rtype: int\n",
        "        \"\"\"\n",
        "        return (self.stack1[0])\n",
        "    def empty(self):\n",
        "        \"\"\"\n",
        "        Returns whether the queue is empty.\n",
        "        :rtype: bool\n",
        "        \"\"\"\n",
        "        if len(self.stack1)==0:\n",
        "            return True\n",
        "        else:\n",
        "            return False\n",
        "        \n",
        "\n",
        "\n",
        "# Your MyQueue object will be instantiated and called as such:\n",
        "obj = MyQueue()\n",
        "x = 5\n",
        "obj.push(x)\n",
        "obj.push(4)\n",
        "obj.push(10)\n",
        "obj.push(7)\n",
        "param_2 = obj.pop()\n",
        "param_3 = obj.peek()\n",
        "param_4 = obj.empty()\n",
        "print(param_2, param_3, param_4)"
      ],
      "execution_count": 2,
      "outputs": [
        {
          "output_type": "stream",
          "name": "stdout",
          "text": [
            "5 4 False\n"
          ]
        }
      ]
    }
  ]
}
